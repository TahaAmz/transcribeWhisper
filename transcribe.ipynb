{
 "cells": [
  {
   "cell_type": "markdown",
   "metadata": {},
   "source": [
    "*Creating audio files from videos*"
   ]
  },
  {
   "cell_type": "code",
   "execution_count": 11,
   "metadata": {},
   "outputs": [
    {
     "name": "stderr",
     "output_type": "stream",
     "text": [
      "                                                                    \n",
      "chunk:   1%|▏         | 23/1690 [07:12<8:42:08, 18.79s/it, now=None]"
     ]
    },
    {
     "name": "stdout",
     "output_type": "stream",
     "text": [
      "MoviePy - Writing audio in sounds\\001-The Complete Focus Mastery Course Brain Concentration Promo Video-fMTi-git.ir.mp3\n"
     ]
    },
    {
     "name": "stderr",
     "output_type": "stream",
     "text": [
      "\n",
      "\u001b[A\n",
      "\u001b[A\n",
      "\u001b[A\n",
      "\u001b[A\n",
      "\u001b[A\n",
      "\u001b[A\n",
      "\u001b[A\n",
      "\u001b[A\n",
      "\u001b[A\n",
      "                                                                    \n",
      "chunk:   1%|▏         | 23/1690 [07:13<8:43:13, 18.83s/it, now=None] "
     ]
    },
    {
     "name": "stdout",
     "output_type": "stream",
     "text": [
      "MoviePy - Done.\n"
     ]
    }
   ],
   "source": [
    "import moviepy.editor as mp\n",
    "import os\n",
    "\n",
    "video_folder = \"videos\"\n",
    "sounds_folder = \"sounds\"\n",
    "\n",
    "video_files = os.listdir(video_folder)\n",
    "index = 0\n",
    "\n",
    "while index < len(video_files):\n",
    "    video_file = video_files[index]\n",
    "    video_path = os.path.join(video_folder, video_file)\n",
    "    \n",
    "    if os.path.isfile(video_path) and video_path.endswith(\".mp4\"):\n",
    "        video = mp.VideoFileClip(video_path)\n",
    "        audio_filename = video_path.replace(\".mp4\", \"\").replace(\"videos\\\\\", \"\")\n",
    "        audio_path = os.path.join(sounds_folder, audio_filename)\n",
    "        video.audio.write_audiofile(f\"{audio_path}.mp3\")\n",
    "    index += 1"
   ]
  },
  {
   "cell_type": "markdown",
   "metadata": {},
   "source": [
    "*Transcibe the audio files*"
   ]
  },
  {
   "cell_type": "code",
   "execution_count": 1,
   "metadata": {},
   "outputs": [],
   "source": [
    "#  !pip install git+https://github.com/openai/whisper.git\n",
    "#  !sudo apt update && sudo apt install ffmpeg"
   ]
  },
  {
   "cell_type": "code",
   "execution_count": 2,
   "metadata": {},
   "outputs": [],
   "source": [
    "# from google.colab import drive\n",
    "# drive.mount('/content/drive')"
   ]
  },
  {
   "cell_type": "code",
   "execution_count": null,
   "metadata": {},
   "outputs": [],
   "source": [
    "# !whisper \"audio_path\" --model medium.eu -o \"output.txt\""
   ]
  },
  {
   "cell_type": "code",
   "execution_count": null,
   "metadata": {},
   "outputs": [],
   "source": [
    "# !whisper -h"
   ]
  }
 ],
 "metadata": {
  "kernelspec": {
   "display_name": "base",
   "language": "python",
   "name": "python3"
  },
  "language_info": {
   "codemirror_mode": {
    "name": "ipython",
    "version": 3
   },
   "file_extension": ".py",
   "mimetype": "text/x-python",
   "name": "python",
   "nbconvert_exporter": "python",
   "pygments_lexer": "ipython3",
   "version": "3.11.9"
  }
 },
 "nbformat": 4,
 "nbformat_minor": 2
}
